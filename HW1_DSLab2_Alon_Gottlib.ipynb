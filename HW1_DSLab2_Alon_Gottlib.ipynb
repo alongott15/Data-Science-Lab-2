{
  "nbformat": 4,
  "nbformat_minor": 0,
  "metadata": {
    "colab": {
      "provenance": []
    },
    "kernelspec": {
      "name": "python3",
      "display_name": "Python 3"
    },
    "language_info": {
      "name": "python"
    }
  },
  "cells": [
    {
      "cell_type": "markdown",
      "source": [
        "1. Installing numpy, matplotlib, pandas, tensorflow, sklearn and pytorch"
      ],
      "metadata": {
        "id": "_wQunprFutzE"
      }
    },
    {
      "cell_type": "code",
      "execution_count": 1,
      "metadata": {
        "colab": {
          "base_uri": "https://localhost:8080/"
        },
        "collapsed": true,
        "id": "25rU0a2FsryL",
        "outputId": "9ef80334-4b83-4aab-d709-47100571f853"
      },
      "outputs": [
        {
          "output_type": "stream",
          "name": "stdout",
          "text": [
          ]
        }
      ],
      "source": [
        "!pip install tensorflow\n",
        "!pip install torch\n",
        "!pip install pandas\n",
        "!pip install numpy\n",
        "!pip install sklearn\n",
        "!pip install matplotlib"
      ]
    },
    {
      "cell_type": "markdown",
      "source": [
        "2. Importing the libraries for future usage"
      ],
      "metadata": {
        "id": "xMjb0PUNu_q3"
      }
    },
    {
      "cell_type": "code",
      "source": [
        "import tensorflow as tf\n",
        "import pandas as pd\n",
        "import numpy as np\n",
        "import sklearn as sk\n",
        "from sklearn import metrics\n",
        "from sklearn.decomposition import PCA\n",
        "from sklearn.preprocessing import StandardScaler\n",
        "import torch\n",
        "import matplotlib.pyplot as plt\n",
        "import random"
      ],
      "metadata": {
        "id": "9u-29fCCswg1"
      },
      "execution_count": 1,
      "outputs": []
    },
    {
      "cell_type": "markdown",
      "source": [
        "*Help Functions*"
      ],
      "metadata": {
        "id": "RZRrpWU2aDv1"
      }
    },
    {
      "cell_type": "code",
      "source": [
        "def load_mnist():\n",
        "  mnist = tf.keras.datasets.mnist\n",
        "  (x_train, y_train), (x_test, y_test) = mnist.load_data()\n",
        "  return x_train, y_train, x_test, y_test\n",
        "\n",
        "def build_model(x_train, y_train, x_test, y_test):\n",
        "  # Normalizing the pixel values to [0, 1] range\n",
        "  x_train = x_train / 255.0\n",
        "  x_test = x_test / 255.0\n",
        "\n",
        "  # Convert the labels to one-hot encoding\n",
        "  y_train = tf.keras.utils.to_categorical(y_train, 10)\n",
        "  y_test = tf.keras.utils.to_categorical(y_test, 10)\n",
        "\n",
        "  # Building the NN\n",
        "  model = tf.keras.models.Sequential([\n",
        "      tf.keras.layers.Flatten(input_shape=(28, 28)),\n",
        "      tf.keras.layers.Dense(128, activation='relu'),\n",
        "      tf.keras.layers.Dropout(0.2),\n",
        "      tf.keras.layers.Dense(64, activation='relu'),\n",
        "      tf.keras.layers.Dropout(0.2),\n",
        "      tf.keras.layers.Dense(10, activation='softmax')\n",
        "  ])\n",
        "\n",
        "  # Compile the model\n",
        "  model.compile(optimizer='adam',\n",
        "                loss='categorical_crossentropy',\n",
        "                metrics=['accuracy'])\n",
        "\n",
        "  # Train the model\n",
        "  history = model.fit(x_train, y_train, epochs=10, batch_size=32, validation_split=0.2)\n",
        "\n",
        "  test_loss, test_accuracy = model.evaluate(x_test, y_test)\n",
        "  print(f\"Test Loss: {test_loss:.4f}\")\n",
        "  print(f\"Test Accuracy: {test_accuracy:.4f}\")\n",
        "\n",
        "  # Make the predictions on the test set\n",
        "  y_pred = model.predict(x_test)\n",
        "  y_pred_classes = np.argmax(y_pred, axis=1)\n",
        "\n",
        "  # Calculate precision, recall, F1 score, sensitivity and specificty\n",
        "  precision = metrics.precision_score(np.argmax(y_test, axis=1), y_pred_classes, average='macro')\n",
        "  recall = metrics.recall_score(np.argmax(y_test, axis=1), y_pred_classes, average='macro')\n",
        "  f1_score = metrics.f1_score(np.argmax(y_test, axis=1), y_pred_classes, average='macro')\n",
        "\n",
        "  sensitivity = recall\n",
        "\n",
        "  # Calculate the confusion matrix to calculate the specificity\n",
        "  cm = sk.metrics.confusion_matrix(np.argmax(y_test, axis=1), y_pred_classes)\n",
        "  # print(cm)\n",
        "  tn = cm.sum(axis=1) - cm.diagonal()\n",
        "  fp = cm.sum(axis=0) - cm.diagonal()\n",
        "  fn = cm.sum(axis=1) - cm.diagonal()\n",
        "  specificity = tn / (tn + fp)\n",
        "  specificity = specificity.mean()\n",
        "\n",
        "  return cm, precision, recall, f1_score, sensitivity, specificity, test_accuracy, history\n",
        "\n",
        "# Building the model for PCA\n",
        "def build_model_reduced(x_train, y_train, x_test, y_test, is_pca):\n",
        "  # Convert the labels to one-hot encoding\n",
        "  y_train = tf.keras.utils.to_categorical(y_train, 10)\n",
        "  y_test = tf.keras.utils.to_categorical(y_test, 10)\n",
        "\n",
        "  if not is_pca:\n",
        "    x_train = x_train / 255.0\n",
        "    x_test = x_test / 255.0\n",
        "\n",
        "  # Building the NN\n",
        "  if not is_pca:\n",
        "    model = tf.keras.models.Sequential([\n",
        "        tf.keras.layers.Flatten(input_shape=(x_train.shape[1], x_train.shape[2])),\n",
        "        tf.keras.layers.Dense(128, activation='relu'),\n",
        "        tf.keras.layers.Dropout(0.2),\n",
        "        tf.keras.layers.Dense(64, activation='relu'),\n",
        "        tf.keras.layers.Dropout(0.2),\n",
        "        tf.keras.layers.Dense(10, activation='softmax')\n",
        "    ])\n",
        "  else:\n",
        "    model = tf.keras.models.Sequential([\n",
        "        tf.keras.layers.Dense(128, input_shape=(x_train.shape[1],), activation='relu'),\n",
        "        tf.keras.layers.Dropout(0.2),\n",
        "        tf.keras.layers.Dense(64, activation='relu'),\n",
        "        tf.keras.layers.Dropout(0.2),\n",
        "        tf.keras.layers.Dense(10, activation='softmax')\n",
        "    ])\n",
        "\n",
        "  # Compile the model\n",
        "  model.compile(optimizer='adam',\n",
        "                loss='categorical_crossentropy',\n",
        "                metrics=['accuracy'])\n",
        "\n",
        "  # Train the model\n",
        "  history = model.fit(x_train, y_train, epochs=10, batch_size=32, validation_split=0.2)\n",
        "\n",
        "  test_loss, test_accuracy = model.evaluate(x_test, y_test)\n",
        "  print(f\"Test Loss: {test_loss:.4f}\")\n",
        "  print(f\"Test Accuracy: {test_accuracy:.4f}\")\n",
        "\n",
        "  # Make the predictions on the test set\n",
        "  y_pred = model.predict(x_test)\n",
        "  y_pred_classes = np.argmax(y_pred, axis=1)\n",
        "\n",
        "  # Calculate precision, recall, F1 score, sensitivity and specificty\n",
        "  precision = metrics.precision_score(np.argmax(y_test, axis=1), y_pred_classes, average='macro')\n",
        "  recall = metrics.recall_score(np.argmax(y_test, axis=1), y_pred_classes, average='macro')\n",
        "  f1_score = metrics.f1_score(np.argmax(y_test, axis=1), y_pred_classes, average='macro')\n",
        "\n",
        "  sensitivity = recall\n",
        "\n",
        "  # Calculate the confusion matrix to calculate the specificity\n",
        "  cm = sk.metrics.confusion_matrix(np.argmax(y_test, axis=1), y_pred_classes)\n",
        "  # print(cm)\n",
        "  tn = cm.sum(axis=1) - cm.diagonal()\n",
        "  fp = cm.sum(axis=0) - cm.diagonal()\n",
        "  fn = cm.sum(axis=1) - cm.diagonal()\n",
        "  specificity = tn / (tn + fp)\n",
        "  specificity = specificity.mean()\n",
        "\n",
        "  return cm, precision, recall, f1_score, sensitivity, specificity, test_accuracy, history\n",
        "\n",
        "# Applying the 3x3 block averaging\n",
        "def block_avg(image, block_size=3):\n",
        "  (h, w) = image.shape\n",
        "  new_h, new_w = h // block_size, w // block_size\n",
        "  result = np.zeros((new_h, new_w))\n",
        "  for i in range(new_h):\n",
        "    for j in range(new_w):\n",
        "      block = image[i * block_size:(i + 1) * block_size, j * block_size:(j + 1) * block_size]\n",
        "      result[i, j] = np.mean(block)\n",
        "  return result\n",
        "\n",
        "# Printing the results\n",
        "def print_results(cm, precision, recall, f1_score, sensitivity, specificity, accuracy):\n",
        "  print(\"Confusion Matrix:\")\n",
        "  print(cm)\n",
        "  print(\"Precision:\", precision)\n",
        "  print(\"Recall:\", recall)\n",
        "  print(\"F1 Score:\", f1_score)\n",
        "  print(\"Sensitivity:\", sensitivity)\n",
        "  print(\"Specificity:\", specificity)\n",
        "\n",
        "# Plotting the loss of the training over epochs\n",
        "def plot_loss_over_training(history):\n",
        "  plt.figure(figsize=(10, 6))\n",
        "  plt.plot(history.history['loss'], label='Training Loss')\n",
        "  #plt.plot(history.history['val_loss'], label='Validation Loss')\n",
        "  plt.xlabel('Epochs')\n",
        "  plt.ylabel('Loss')\n",
        "  plt.title('Training and Validation Loss')\n",
        "  plt.legend(loc='upper right')\n",
        "  plt.show()\n",
        "\n",
        "# Creating the Augmentation for the images\n",
        "def augment_class_images(x, y, selected_class, aug_num):\n",
        "  indices = np.where(y == selected_class)[0]\n",
        "  x_class = x[indices]\n",
        "  y_class = y[indices]\n",
        "\n",
        "  datagen = tf.keras.preprocessing.image.ImageDataGenerator(\n",
        "      rotation_range=10,\n",
        "      width_shift_range=0.1,\n",
        "      height_shift_range=0.1,\n",
        "      shear_range=0.1,\n",
        "      zoom_range=0.1,\n",
        "      horizontal_flip=True,\n",
        "      vertical_flip=True,\n",
        "      fill_mode='nearest'\n",
        "  )\n",
        "\n",
        "  aug_images = []\n",
        "  aug_labels = []\n",
        "\n",
        "  for img in x_class:\n",
        "    img = img.reshape((1, 28, 28, 1))\n",
        "    aug_iter = datagen.flow(img, batch_size=1)\n",
        "    for _ in range(aug_num):\n",
        "      aug_img = next(aug_iter)[0].reshape(28, 28)\n",
        "      aug_images.append(aug_img)\n",
        "      aug_labels.append(selected_class)\n",
        "\n",
        "  return np.array(aug_images), np.array(aug_labels)"
      ],
      "metadata": {
        "id": "-GD5HWANaDKB"
      },
      "execution_count": 2,
      "outputs": []
    },
    {
      "cell_type": "markdown",
      "source": [
        "3. Loading the MNIST dataset"
      ],
      "metadata": {
        "id": "9QGKM8NmvIWY"
      }
    },
    {
      "cell_type": "code",
      "source": [
        "#Loading the MNIST model\n",
        "x_train, y_train, x_test, y_test = load_mnist()"
      ],
      "metadata": {
        "id": "9NdtSFoGtDRn",
        "colab": {
          "base_uri": "https://localhost:8080/"
        },
        "outputId": "f1f0f23a-063a-4aac-b651-dd40350c3e95"
      },
      "execution_count": 3,
      "outputs": [
        {
          "output_type": "stream",
          "name": "stdout",
          "text": [
            "Downloading data from https://storage.googleapis.com/tensorflow/tf-keras-datasets/mnist.npz\n",
            "11490434/11490434 [==============================] - 0s 0us/step\n"
          ]
        }
      ]
    },
    {
      "cell_type": "markdown",
      "source": [
        "4. Presenting basic statistics about the dataset as required in the assignment"
      ],
      "metadata": {
        "id": "ukARlY3mvQ2G"
      }
    },
    {
      "cell_type": "code",
      "source": [
        "# Number of images\n",
        "num_images = x_train.shape[0] + x_test.shape[0]\n",
        "\n",
        "# Distribution\n",
        "distribution = [\n",
        "    (y_train == i).sum() for i in range(10)\n",
        "]\n",
        "\n",
        "# Average number of white pixels in each class\n",
        "avg_white_pixels = [\n",
        "    np.mean(x_train[y_train == i]) for i in range(10)\n",
        "]\n",
        "\n",
        "# Standard deviation of white pixels in each class\n",
        "std_white_pixels = [\n",
        "    np.std(x_train[y_train == i]) for i in range(10)\n",
        "]\n",
        "\n",
        "# Number of common pixels in each class that are not white\n",
        "common_pixels = [\n",
        "    np.sum(np.logical_and(x_train[y_train == i] != 0, x_train[y_train == i] != 255))\n",
        "    for i in range(10)\n",
        "]\n",
        "\n",
        "# Print results\n",
        "print(\"Number of images:\", num_images)\n",
        "print(\"Distribution:\", distribution)\n",
        "print(\"Average number of white pixels in each class:\", avg_white_pixels)\n",
        "print(\"Standard deviation of white pixels in each class:\", std_white_pixels)\n",
        "print(\"Number of common pixels in each class that are not white:\", common_pixels)\n"
      ],
      "metadata": {
        "colab": {
          "base_uri": "https://localhost:8080/"
        },
        "id": "49nGWqaZtp4F",
        "outputId": "290e5c53-62c3-4020-9027-1183c225d52c"
      },
      "execution_count": 4,
      "outputs": [
        {
          "output_type": "stream",
          "name": "stdout",
          "text": [
            "Number of images: 70000\n",
            "Distribution: [5923, 6742, 5958, 6131, 5842, 5421, 5918, 6265, 5851, 5949]\n",
            "Average number of white pixels in each class: [44.21682790539819, 19.379653852790003, 37.98865784984689, 36.09018653946654, 30.94822568277568, 32.83109548467976, 35.01195268154575, 29.204562926527355, 38.28977538289286, 31.26043542732272]\n",
            "Standard deviation of white pixels in each class: [88.66807293975512, 62.29178755571122, 83.11048388578868, 81.0692353756164, 75.85848996400738, 77.41506624626119, 80.29885348978513, 74.38243138303987, 82.9412885831376, 76.15257205456174]\n",
            "Number of common pixels in each class that are not white: [1095315, 554755, 971255, 965214, 799664, 797636, 897258, 794747, 981810, 822220]\n"
          ]
        }
      ]
    },
    {
      "cell_type": "markdown",
      "source": [
        "5. Building a simple classification NN and calculating the measures"
      ],
      "metadata": {
        "id": "kJIjMk8zv6N4"
      }
    },
    {
      "cell_type": "code",
      "source": [
        "# Applying the model on the original MNIST dataset\n",
        "cm, precision, recall, f1_score, sensitivity, specificity, accuracy, history = build_model(x_train, y_train, x_test, y_test)"
      ],
      "metadata": {
        "colab": {
          "base_uri": "https://localhost:8080/"
        },
        "id": "7zSkA5aS_Qrc",
        "outputId": "e016c71f-cb11-46cb-e98a-3ead0ed72811"
      },
      "execution_count": 5,
      "outputs": [
        {
          "output_type": "stream",
          "name": "stdout",
          "text": [
            "Epoch 1/10\n",
            "1500/1500 [==============================] - 7s 4ms/step - loss: 0.3692 - accuracy: 0.8898 - val_loss: 0.1461 - val_accuracy: 0.9572\n",
            "Epoch 2/10\n",
            "1500/1500 [==============================] - 7s 4ms/step - loss: 0.1745 - accuracy: 0.9483 - val_loss: 0.1101 - val_accuracy: 0.9668\n",
            "Epoch 3/10\n",
            "1500/1500 [==============================] - 6s 4ms/step - loss: 0.1372 - accuracy: 0.9586 - val_loss: 0.1034 - val_accuracy: 0.9700\n",
            "Epoch 4/10\n",
            "1500/1500 [==============================] - 7s 4ms/step - loss: 0.1174 - accuracy: 0.9647 - val_loss: 0.1041 - val_accuracy: 0.9698\n",
            "Epoch 5/10\n",
            "1500/1500 [==============================] - 6s 4ms/step - loss: 0.1019 - accuracy: 0.9684 - val_loss: 0.0864 - val_accuracy: 0.9740\n",
            "Epoch 6/10\n",
            "1500/1500 [==============================] - 5s 3ms/step - loss: 0.0900 - accuracy: 0.9723 - val_loss: 0.0939 - val_accuracy: 0.9757\n",
            "Epoch 7/10\n",
            "1500/1500 [==============================] - 12s 8ms/step - loss: 0.0792 - accuracy: 0.9754 - val_loss: 0.0847 - val_accuracy: 0.9764\n",
            "Epoch 8/10\n",
            "1500/1500 [==============================] - 14s 9ms/step - loss: 0.0720 - accuracy: 0.9777 - val_loss: 0.0910 - val_accuracy: 0.9751\n",
            "Epoch 9/10\n",
            "1500/1500 [==============================] - 13s 9ms/step - loss: 0.0693 - accuracy: 0.9777 - val_loss: 0.0881 - val_accuracy: 0.9755\n",
            "Epoch 10/10\n",
            "1500/1500 [==============================] - 11s 7ms/step - loss: 0.0623 - accuracy: 0.9801 - val_loss: 0.0889 - val_accuracy: 0.9759\n",
            "313/313 [==============================] - 1s 2ms/step - loss: 0.0847 - accuracy: 0.9776\n",
            "Test Loss: 0.0847\n",
            "Test Accuracy: 0.9776\n",
            "313/313 [==============================] - 1s 2ms/step\n"
          ]
        }
      ]
    },
    {
      "cell_type": "code",
      "source": [
        "print_results(cm, precision, recall, f1_score, sensitivity, specificity, accuracy)"
      ],
      "metadata": {
        "id": "rL72QxDMWH_1",
        "colab": {
          "base_uri": "https://localhost:8080/"
        },
        "outputId": "decd8f3e-cf2d-4ac1-c5b7-ef085823d187"
      },
      "execution_count": 6,
      "outputs": [
        {
          "output_type": "stream",
          "name": "stdout",
          "text": [
            "Confusion Matrix:\n",
            "[[ 973    1    0    0    1    0    1    2    1    1]\n",
            " [   0 1125    1    1    1    0    3    1    3    0]\n",
            " [   4    0 1011    0    5    0    1    9    2    0]\n",
            " [   1    0    8  986    1    4    0    4    3    3]\n",
            " [   0    0    1    0  965    0    4    1    2    9]\n",
            " [   3    0    0   10    1  867    3    0    4    4]\n",
            " [   7    3    2    1    8    2  932    0    3    0]\n",
            " [   1    7   10    1    1    1    0 1002    0    5]\n",
            " [   2    1    4    6    5    4    1    4  944    3]\n",
            " [   2    3    0    9   14    4    0    5    1  971]]\n",
            "Precision: 0.9776203577147722\n",
            "Recall: 0.9773703266498949\n",
            "F1 Score: 0.9774648518158205\n",
            "Sensitivity: 0.9773703266498949\n",
            "Specificity: 0.4889507214051287\n"
          ]
        }
      ]
    },
    {
      "cell_type": "markdown",
      "source": [
        "6. Analyzing the confusion matrix\n",
        "\n",
        "  From the following confusion matrix, we can draw several key observations:\n",
        "\n",
        "\n",
        "*   High accuracy of the model - the model achieved an overall accuracy of 97.76% which is an indication of high performance.\n",
        "*   There are some notable confusions between classes such as:\n",
        "  * Class 2 if often confused for class 7\n",
        "  * Class 4 is often confused with class 9\n",
        "  * Class 5 is often confused with class 3\n",
        "  * Class 9 is often confused with class 4\n",
        "\n",
        "* The mutual confusion between class 4 and class 9 indicate that they have similar key features\n",
        "\n",
        "  Over all the model is performing well. There is room for improvement as such finding the way to distinguish better between class 4 and class 9."
      ],
      "metadata": {
        "id": "UjCveRJnv8zp"
      }
    },
    {
      "cell_type": "markdown",
      "source": [
        "7. Plot a figure of the Loss along the training"
      ],
      "metadata": {
        "id": "jm9R-uwKBg2g"
      }
    },
    {
      "cell_type": "code",
      "source": [
        "plot_loss_over_training(history)"
      ],
      "metadata": {
        "id": "pPc5ZwnlbEox",
        "colab": {
          "base_uri": "https://localhost:8080/",
          "height": 564
        },
        "outputId": "93069b5f-45c0-42f0-fd04-96d2fa2d0fac"
      },
      "execution_count": 7,
      "outputs": [
        {
          "output_type": "display_data",
          "data": {
            "text/plain": [
              "<Figure size 1000x600 with 1 Axes>"
            ],
            "image/png": "[encoded data removed]"
          },
          "metadata": {}
        }
      ]
    },
    {
      "cell_type": "markdown",
      "source": [
        "For the dataset, the training is starting to converge after 7 epochs.\n",
        "\n",
        "Thus, I would choose 7 as the best number of epochs for training"
      ],
      "metadata": {
        "id": "xan8NWWfz4dW"
      }
    },
    {
      "cell_type": "markdown",
      "source": [
        "8. Constructing the new dataset using the average of all surronding pixels"
      ],
      "metadata": {
        "id": "ccaozX1VRrTy"
      }
    },
    {
      "cell_type": "code",
      "source": [
        "# Importing uniform_filter from scipy to be able to construct the new dataset\n",
        "from scipy.ndimage import uniform_filter"
      ],
      "metadata": {
        "id": "rq2vlfqpS-RG"
      },
      "execution_count": 8,
      "outputs": []
    },
    {
      "cell_type": "code",
      "source": [
        "# Reloading the dataset\n",
        "x_train, y_train, x_test, y_test = load_mnist()\n",
        "\n",
        "# Creating the mean filtered images\n",
        "x_train_filtered = np.array([uniform_filter(img, 3) for img in x_train])\n",
        "x_test_filtered = np.array([uniform_filter(img, 3) for img in x_test])"
      ],
      "metadata": {
        "id": "SjXtRzklDuxa"
      },
      "execution_count": 9,
      "outputs": []
    },
    {
      "cell_type": "markdown",
      "source": [
        "Applying the model on the new dataset and calculating the measures"
      ],
      "metadata": {
        "id": "l3aPl6xMbQg_"
      }
    },
    {
      "cell_type": "code",
      "source": [
        "# Applying the model on the mean filtered MNIST dataset\n",
        "cm, precision, recall, f1_score, sensitivity, specificity, accuracy, history = build_model(x_train_filtered, y_train, x_test_filtered, y_test)"
      ],
      "metadata": {
        "id": "HOTBkrkPT5Vj",
        "colab": {
          "base_uri": "https://localhost:8080/"
        },
        "outputId": "91a1bb5a-7d42-4a2c-9a53-627482a4b525"
      },
      "execution_count": 10,
      "outputs": [
        {
          "output_type": "stream",
          "name": "stdout",
          "text": [
            "Epoch 1/10\n",
            "1500/1500 [==============================] - 7s 4ms/step - loss: 0.3807 - accuracy: 0.8857 - val_loss: 0.1656 - val_accuracy: 0.9496\n",
            "Epoch 2/10\n",
            "1500/1500 [==============================] - 5s 4ms/step - loss: 0.1958 - accuracy: 0.9413 - val_loss: 0.1183 - val_accuracy: 0.9643\n",
            "Epoch 3/10\n",
            "1500/1500 [==============================] - 6s 4ms/step - loss: 0.1570 - accuracy: 0.9529 - val_loss: 0.1141 - val_accuracy: 0.9650\n",
            "Epoch 4/10\n",
            "1500/1500 [==============================] - 11s 7ms/step - loss: 0.1397 - accuracy: 0.9582 - val_loss: 0.1018 - val_accuracy: 0.9691\n",
            "Epoch 5/10\n",
            "1500/1500 [==============================] - 13s 9ms/step - loss: 0.1225 - accuracy: 0.9630 - val_loss: 0.0945 - val_accuracy: 0.9718\n",
            "Epoch 6/10\n",
            "1500/1500 [==============================] - 13s 9ms/step - loss: 0.1139 - accuracy: 0.9657 - val_loss: 0.0932 - val_accuracy: 0.9716\n",
            "Epoch 7/10\n",
            "1500/1500 [==============================] - 9s 6ms/step - loss: 0.1036 - accuracy: 0.9683 - val_loss: 0.0892 - val_accuracy: 0.9734\n",
            "Epoch 8/10\n",
            "1500/1500 [==============================] - 12s 8ms/step - loss: 0.0977 - accuracy: 0.9699 - val_loss: 0.0816 - val_accuracy: 0.9756\n",
            "Epoch 9/10\n",
            "1500/1500 [==============================] - 10s 7ms/step - loss: 0.0918 - accuracy: 0.9716 - val_loss: 0.0823 - val_accuracy: 0.9768\n",
            "Epoch 10/10\n",
            "1500/1500 [==============================] - 10s 7ms/step - loss: 0.0883 - accuracy: 0.9731 - val_loss: 0.0904 - val_accuracy: 0.9743\n",
            "313/313 [==============================] - 1s 3ms/step - loss: 0.0756 - accuracy: 0.9754\n",
            "Test Loss: 0.0756\n",
            "Test Accuracy: 0.9754\n",
            "313/313 [==============================] - 1s 3ms/step\n"
          ]
        }
      ]
    },
    {
      "cell_type": "code",
      "source": [
        "print_results(cm, precision, recall, f1_score, sensitivity, specificity, accuracy)"
      ],
      "metadata": {
        "id": "eGmmRBd-WC-B",
        "colab": {
          "base_uri": "https://localhost:8080/"
        },
        "outputId": "e863bbb4-810e-48a0-8e58-8c6ec3f33003"
      },
      "execution_count": 11,
      "outputs": [
        {
          "output_type": "stream",
          "name": "stdout",
          "text": [
            "Confusion Matrix:\n",
            "[[ 969    0    1    1    1    1    2    1    3    1]\n",
            " [   0 1125    4    0    0    1    1    1    3    0]\n",
            " [   3    1 1016    0    1    0    1    7    3    0]\n",
            " [   0    0    9  985    0    4    0    8    4    0]\n",
            " [   0    2    4    0  937    0    6    3    0   30]\n",
            " [   2    0    0   17    1  860    3    1    4    4]\n",
            " [   6    2    0    1    4    6  936    0    3    0]\n",
            " [   1    3   13    2    0    0    0 1003    1    5]\n",
            " [   2    0    1    7    3    8    2    6  944    1]\n",
            " [   2    5    0    3    7    5    0    6    2  979]]\n",
            "Precision: 0.9753611206146428\n",
            "Recall: 0.9750192494365205\n",
            "F1 Score: 0.9751541064677607\n",
            "Sensitivity: 0.9750192494365205\n",
            "Specificity: 0.49233639057196754\n"
          ]
        }
      ]
    },
    {
      "cell_type": "markdown",
      "source": [
        "From the following confusion matrix, we can draw several key observations:\n",
        "\n",
        "*   High accuracy of the model - the model achieved an overall accuracy of 97.54% which is an indication of high performance\n",
        "*   There are some notable confusions between classes such as:\n",
        "  * Similarly to the original model, class 4 and class 9 are being mutually confused.\n",
        "  From that we can assume that even after the averaging process, some key features of the classes stay similar\n",
        "  * Class 5 and class 3 are being mutually confused\n",
        "  * Class 8 is often confused with class 3 and class 7\n",
        "\n",
        "Overall the model kept a really good accuracy despite the averaging process.\n",
        "However, some digits have more similar features after the averaging process which leads to higher rate of misclassification"
      ],
      "metadata": {
        "id": "1XxyyVBh1kAf"
      }
    },
    {
      "cell_type": "markdown",
      "source": [
        "Plotting the loss of the training"
      ],
      "metadata": {
        "id": "XYNLfFUqbXLK"
      }
    },
    {
      "cell_type": "code",
      "source": [
        "plot_loss_over_training(history)"
      ],
      "metadata": {
        "id": "sMGf4v-hZZQK",
        "colab": {
          "base_uri": "https://localhost:8080/",
          "height": 564
        },
        "outputId": "95f891db-00d6-449c-808e-5e5887bd2b4d"
      },
      "execution_count": 12,
      "outputs": [
        {
          "output_type": "display_data",
          "data": {
            "text/plain": [
              "<Figure size 1000x600 with 1 Axes>"
            ],
            "image/png": "[encoded data removed]"
          },
          "metadata": {}
        }
      ]
    },
    {
      "cell_type": "markdown",
      "source": [
        "For the constructed dataset, the training is starting to converge after 8 epochs.\n",
        "\n",
        "Thus, I would choose 8 as the best number of epochs for training"
      ],
      "metadata": {
        "id": "8Nddz12Mz2qs"
      }
    },
    {
      "cell_type": "markdown",
      "source": [
        "9. Comparing the perfomance of the model on the original and constructed datasets:\n",
        "\n",
        "In general, the accuracy of both models are pretty high.\n",
        "But, there are some key differences in the performances of the models.\n",
        "\n",
        " * The model seems to classify class 2, class 8 and class 9 more accurately using the constructed dataset, indicating that averaging the pixels might have helped to better define these classes.\n",
        " * For class 0, class 3, class 4, class 5 and class 7 there seems to be a decrease in the accuracy of the model when using the constructed dataset.\n",
        "\n",
        "Averaging the pixels might have blurred some critical distinguishing features for most classes (as most classes had a decrease in performance), which lead to increased misclassification.\n",
        "This means that the model might rely on finer details as features that are smoothed out by the averaging process.\n",
        "\n",
        "Overall the model keeps good accuracy for both dataset with a slight decrease in the performance on the construced dataset.\n"
      ],
      "metadata": {
        "id": "wxCgjFIz4GnS"
      }
    },
    {
      "cell_type": "markdown",
      "source": [
        "10. a - Performing dimension reduction using PCA"
      ],
      "metadata": {
        "id": "-oCTJjKAbkoZ"
      }
    },
    {
      "cell_type": "code",
      "source": [
        "x_train, y_train, x_test, y_test = load_mnist()\n",
        "\n",
        "x_train_flatten = x_train.reshape(x_train.shape[0], -1)\n",
        "x_test_flatten = x_test.reshape(x_test.shape[0], -1)\n",
        "\n",
        "scaler = StandardScaler()\n",
        "\n",
        "x_train_flatten = scaler.fit_transform(x_train_flatten)\n",
        "x_test_flatten = scaler.transform(x_test_flatten)\n",
        "\n",
        "pca = PCA(n_components=0.95)\n",
        "x_train_pca = pca.fit_transform(x_train_flatten)\n",
        "x_test_pca = pca.transform(x_test_flatten)"
      ],
      "metadata": {
        "id": "fCtCh2l9bj25"
      },
      "execution_count": 13,
      "outputs": []
    },
    {
      "cell_type": "markdown",
      "source": [
        "Applying the model on the PCA dataset"
      ],
      "metadata": {
        "id": "z_U-eJD6jGtd"
      }
    },
    {
      "cell_type": "code",
      "source": [
        "cm, precision, recall, f1_score, sensitivity, specificity, accuracy, history = build_model_reduced(x_train_pca, y_train, x_test_pca, y_test, True)"
      ],
      "metadata": {
        "colab": {
          "base_uri": "https://localhost:8080/"
        },
        "id": "a-LmWu3QjGZc",
        "outputId": "77023175-860c-405d-d4c2-b8f91adb80d0"
      },
      "execution_count": 14,
      "outputs": [
        {
          "output_type": "stream",
          "name": "stdout",
          "text": [
            "Epoch 1/10\n",
            "1500/1500 [==============================] - 6s 3ms/step - loss: 0.4949 - accuracy: 0.8601 - val_loss: 0.1904 - val_accuracy: 0.9472\n",
            "Epoch 2/10\n",
            "1500/1500 [==============================] - 4s 3ms/step - loss: 0.2478 - accuracy: 0.9301 - val_loss: 0.1536 - val_accuracy: 0.9559\n",
            "Epoch 3/10\n",
            "1500/1500 [==============================] - 4s 2ms/step - loss: 0.1934 - accuracy: 0.9438 - val_loss: 0.1401 - val_accuracy: 0.9612\n",
            "Epoch 4/10\n",
            "1500/1500 [==============================] - 8s 5ms/step - loss: 0.1699 - accuracy: 0.9521 - val_loss: 0.1302 - val_accuracy: 0.9653\n",
            "Epoch 5/10\n",
            "1500/1500 [==============================] - 4s 3ms/step - loss: 0.1516 - accuracy: 0.9559 - val_loss: 0.1353 - val_accuracy: 0.9645\n",
            "Epoch 6/10\n",
            "1500/1500 [==============================] - 4s 3ms/step - loss: 0.1377 - accuracy: 0.9607 - val_loss: 0.1307 - val_accuracy: 0.9652\n",
            "Epoch 7/10\n",
            "1500/1500 [==============================] - 4s 3ms/step - loss: 0.1221 - accuracy: 0.9633 - val_loss: 0.1281 - val_accuracy: 0.9689\n",
            "Epoch 8/10\n",
            "1500/1500 [==============================] - 4s 3ms/step - loss: 0.1148 - accuracy: 0.9654 - val_loss: 0.1249 - val_accuracy: 0.9698\n",
            "Epoch 9/10\n",
            "1500/1500 [==============================] - 6s 4ms/step - loss: 0.1068 - accuracy: 0.9679 - val_loss: 0.1272 - val_accuracy: 0.9697\n",
            "Epoch 10/10\n",
            "1500/1500 [==============================] - 6s 4ms/step - loss: 0.1053 - accuracy: 0.9675 - val_loss: 0.1190 - val_accuracy: 0.9705\n",
            "313/313 [==============================] - 1s 2ms/step - loss: 0.1627 - accuracy: 0.9707\n",
            "Test Loss: 0.1627\n",
            "Test Accuracy: 0.9707\n",
            "313/313 [==============================] - 0s 1ms/step\n"
          ]
        }
      ]
    },
    {
      "cell_type": "code",
      "source": [
        "print_results(cm, precision, recall, f1_score, sensitivity, specificity, accuracy)"
      ],
      "metadata": {
        "colab": {
          "base_uri": "https://localhost:8080/"
        },
        "id": "qcChRBy7jSxi",
        "outputId": "6fca81e9-7b20-42a6-9d75-4a8ff1fd81df"
      },
      "execution_count": 15,
      "outputs": [
        {
          "output_type": "stream",
          "name": "stdout",
          "text": [
            "Confusion Matrix:\n",
            "[[ 966    0    4    2    1    1    4    1    1    0]\n",
            " [   0 1124    6    0    0    1    3    0    1    0]\n",
            " [   1    0 1008    1    3    1    5   11    2    0]\n",
            " [   0    0    5  985    0    5    0    8    7    0]\n",
            " [   1    0    9    0  944    1    5    6    1   15]\n",
            " [   3    0    0   10    1  856    7    3   10    2]\n",
            " [   5    3    2    0    8    4  934    0    1    1]\n",
            " [   2    5   12    5    3    0    0  992    2    7]\n",
            " [   5    4    3    5    6    8    4    6  930    3]\n",
            " [   3    4    1    8   11    2    1    9    2  968]]\n",
            "Precision: 0.9706315275005897\n",
            "Recall: 0.9703078607799492\n",
            "F1 Score: 0.9704407452306418\n",
            "Sensitivity: 0.9703078607799492\n",
            "Specificity: 0.4891369204574878\n"
          ]
        }
      ]
    },
    {
      "cell_type": "markdown",
      "source": [
        "From the following confusion matrix, we can draw several key observations:\n",
        "\n",
        "\n",
        "*   High accuracy of the model - the model achieved an overall accuracy of 97.07% which is an indication of high performance\n",
        "* Even though the accuracy of the model with the PCA is still pretty high, using PCA caused some classes to overlap in the reduced feature space, leading to a higher misclassification rate.\n",
        "*   There are some notable confusions between classes such as:\n",
        "  * Class 4 and class 9 are being mutually confused\n",
        "  * Class 5 is being misclassified in a significant amount suggesting that there is a problem with distinguishing class 5 from others after the PCA dimension reduction\n",
        "  especially comparing to class 3 and class 8\n",
        "  * Class 8 is being misclassified in a significant amount suggesting that there is a problem with distinguishing class 8 from others after the PCA dimension reduction\n",
        "\n",
        "Overall, the model is giving high accuracy on the PCA dataset.\n",
        "However, the dimension reduction that happens because of the PCA may cause the lost of some key features that impact the model's ability to classify those classes correctly\n"
      ],
      "metadata": {
        "id": "kmpyTpQT75Is"
      }
    },
    {
      "cell_type": "code",
      "source": [
        "plot_loss_over_training(history)"
      ],
      "metadata": {
        "colab": {
          "base_uri": "https://localhost:8080/",
          "height": 564
        },
        "id": "U2lnOFhnjVeZ",
        "outputId": "eea3bd77-8426-430a-dc14-7c2d7cc6c6f3"
      },
      "execution_count": 16,
      "outputs": [
        {
          "output_type": "display_data",
          "data": {
            "text/plain": [
              "<Figure size 1000x600 with 1 Axes>"
            ],
            "image/png": "[encoded data removed]"
          },
          "metadata": {}
        }
      ]
    },
    {
      "cell_type": "markdown",
      "source": [
        "For the constructed dataset, the training is starting to converge after 8 epochs.\n",
        "\n",
        "Thus, I would choose 8 as the best number of epochs for training"
      ],
      "metadata": {
        "id": "pZxywdG4zpl0"
      }
    },
    {
      "cell_type": "markdown",
      "source": [
        "Comparing the perfomance of the model on the original and the PCA datasets:\n",
        "\n",
        "In general, the accuracy of both models are pretty high.\n",
        "But, there are some key differences in the performances of the models.\n",
        "\n",
        " * Applying PCA usually leads to more dispersion in misclassification compared to the original dataset, which means that PCA reduces some unique features that might help classifying similar classes correctly.\n",
        " * Some classes show significant overlap after using PCA.\n",
        " * The dimension reduction of PCA can lead to a loss of important features, causing the increase in the confusion between classes that are similar in their features.\n",
        " * The model's performace shows robustness in accuracy even after the PCA, even though the precision and recall were affected by it."
      ],
      "metadata": {
        "id": "cMdGtts2BOkE"
      }
    },
    {
      "cell_type": "markdown",
      "source": [
        "10. b - Performing dimension reduction by replacing each non-overlapping 3x3 pixel block with its' average value"
      ],
      "metadata": {
        "id": "zzAarRn3bqqk"
      }
    },
    {
      "cell_type": "code",
      "source": [
        "x_train, y_train, x_test, y_test = load_mnist()\n",
        "\n",
        "x_train_block_avg = np.array([block_avg(img) for img in x_train])\n",
        "x_test_block_avg = np.array([block_avg(img) for img in x_test])"
      ],
      "metadata": {
        "id": "9mzSJtkDbyuC"
      },
      "execution_count": 17,
      "outputs": []
    },
    {
      "cell_type": "code",
      "source": [
        "cm, precision, recall, f1_score, sensitivity, specificity, accuracy, history = build_model_reduced(x_train_block_avg, y_train, x_test_block_avg, y_test, False)"
      ],
      "metadata": {
        "colab": {
          "base_uri": "https://localhost:8080/"
        },
        "id": "hP8mlRwG39Hm",
        "outputId": "14f7bf52-b8f6-4152-938a-fc2c8b8afb99"
      },
      "execution_count": 18,
      "outputs": [
        {
          "output_type": "stream",
          "name": "stdout",
          "text": [
            "Epoch 1/10\n",
            "1500/1500 [==============================] - 10s 5ms/step - loss: 0.5388 - accuracy: 0.8397 - val_loss: 0.2199 - val_accuracy: 0.9345\n",
            "Epoch 2/10\n",
            "1500/1500 [==============================] - 4s 2ms/step - loss: 0.2539 - accuracy: 0.9238 - val_loss: 0.1623 - val_accuracy: 0.9507\n",
            "Epoch 3/10\n",
            "1500/1500 [==============================] - 3s 2ms/step - loss: 0.1990 - accuracy: 0.9399 - val_loss: 0.1303 - val_accuracy: 0.9622\n",
            "Epoch 4/10\n",
            "1500/1500 [==============================] - 5s 3ms/step - loss: 0.1695 - accuracy: 0.9495 - val_loss: 0.1183 - val_accuracy: 0.9643\n",
            "Epoch 5/10\n",
            "1500/1500 [==============================] - 3s 2ms/step - loss: 0.1490 - accuracy: 0.9548 - val_loss: 0.1129 - val_accuracy: 0.9657\n",
            "Epoch 6/10\n",
            "1500/1500 [==============================] - 3s 2ms/step - loss: 0.1361 - accuracy: 0.9580 - val_loss: 0.1020 - val_accuracy: 0.9701\n",
            "Epoch 7/10\n",
            "1500/1500 [==============================] - 6s 4ms/step - loss: 0.1280 - accuracy: 0.9609 - val_loss: 0.0989 - val_accuracy: 0.9712\n",
            "Epoch 8/10\n",
            "1500/1500 [==============================] - 6s 4ms/step - loss: 0.1168 - accuracy: 0.9646 - val_loss: 0.0948 - val_accuracy: 0.9711\n",
            "Epoch 9/10\n",
            "1500/1500 [==============================] - 3s 2ms/step - loss: 0.1094 - accuracy: 0.9654 - val_loss: 0.0937 - val_accuracy: 0.9720\n",
            "Epoch 10/10\n",
            "1500/1500 [==============================] - 4s 3ms/step - loss: 0.1069 - accuracy: 0.9668 - val_loss: 0.0893 - val_accuracy: 0.9740\n",
            "313/313 [==============================] - 1s 2ms/step - loss: 0.0816 - accuracy: 0.9743\n",
            "Test Loss: 0.0816\n",
            "Test Accuracy: 0.9743\n",
            "313/313 [==============================] - 0s 1ms/step\n"
          ]
        }
      ]
    },
    {
      "cell_type": "code",
      "source": [
        "print_results(cm, precision, recall, f1_score, sensitivity, specificity, accuracy)"
      ],
      "metadata": {
        "colab": {
          "base_uri": "https://localhost:8080/"
        },
        "id": "AlBSeYMg4Go5",
        "outputId": "fdee9759-d08f-442e-a3cb-9d1b044661f3"
      },
      "execution_count": 19,
      "outputs": [
        {
          "output_type": "stream",
          "name": "stdout",
          "text": [
            "Confusion Matrix:\n",
            "[[ 972    0    1    0    0    1    2    1    3    0]\n",
            " [   0 1124    2    1    0    1    2    0    5    0]\n",
            " [   6    1 1007    2    1    0    1    8    6    0]\n",
            " [   0    0    3  968    0   14    0   11   11    3]\n",
            " [   2    0    4    0  953    0    7    2    1   13]\n",
            " [   2    0    0    6    1  874    4    1    1    3]\n",
            " [   9    2    0    1    2    7  937    0    0    0]\n",
            " [   3    5   10    1    2    0    0 1000    1    6]\n",
            " [   1    0    2    7    2    7    4    8  939    4]\n",
            " [   4    4    0    5   16    1    0    7    3  969]]\n",
            "Precision: 0.9740477209773836\n",
            "Recall: 0.9741889674869857\n",
            "F1 Score: 0.9740890094018226\n",
            "Sensitivity: 0.9741889674869857\n",
            "Specificity: 0.4845868509427988\n"
          ]
        }
      ]
    },
    {
      "cell_type": "markdown",
      "source": [
        "From the following confusion matrix, we can draw several key observations:\n",
        "\n",
        "\n",
        "*   High accuracy of the model - the model achieved an overall accuracy of 97.40% which is an indication of high performance\n",
        "* Even though the accuracy of the model with the average 3x3 dimension reduction is pretty high, it affected the model's ability to classify correctly similar classes.\n",
        "*   There are some notable classes overlap such as:\n",
        "  * Class 4 and class 9 are being mutually misclassified\n",
        "  * Class 3 and class 8 are being mutually misclassified.\n",
        "  While class 3 is often confused with class 5\n",
        "  * It's also notable that classes like class 1 and class 0 which have more unique features are less affected by the dimension reduction.\n",
        "\n",
        "Overall, the model is giving high accuracy on the constructed dataset.\n",
        "However, the dimension reduction that happens by the averaging process may cause the lost of some key features that impact the model's ability to classify those classes correctly\n"
      ],
      "metadata": {
        "id": "y37nt4-nFdQp"
      }
    },
    {
      "cell_type": "code",
      "source": [
        "plot_loss_over_training(history)"
      ],
      "metadata": {
        "colab": {
          "base_uri": "https://localhost:8080/",
          "height": 564
        },
        "id": "yZvDjfok4Yil",
        "outputId": "20189065-2843-4451-e409-29188e25a689"
      },
      "execution_count": 20,
      "outputs": [
        {
          "output_type": "display_data",
          "data": {
            "text/plain": [
              "<Figure size 1000x600 with 1 Axes>"
            ],
            "image/png": "[encoded data removed]"
          },
          "metadata": {}
        }
      ]
    },
    {
      "cell_type": "markdown",
      "source": [
        "For the undersampled dataset, the training is starting to converge after 7 epochs.\n",
        "\n",
        "Thus, I would choose 7 as the best number of epochs for training"
      ],
      "metadata": {
        "id": "2pB7BzNJzgOU"
      }
    },
    {
      "cell_type": "markdown",
      "source": [
        "Comparing the perfomance of the model on the original and the constructed datasets:\n",
        "\n",
        "In general, the accuracy of both models are pretty high.\n",
        "But, there are some key differences in the performances of the models.\n",
        "\n",
        " * Applying a dimension reduction method such as block averaging, usually leads to more dispersion in misclassification compared to the original dataset, which means that some unique features that might help classifying similar classes correctly might be lost\n",
        " * Some classes show significant overlap after using the block averaging method.\n",
        " For example, class 4 is being misclassified as class 9 more often after the dimension reduction\n",
        " * The dimension reduction can lead to a loss of important features, causing the increase in the confusion between classes that are similar in their features\n",
        "\n",
        "Overall the model keeps good accuracy for both datasets with a slight decrease for the constructed dataset"
      ],
      "metadata": {
        "id": "F9HTgshyH5m7"
      }
    },
    {
      "cell_type": "markdown",
      "source": [
        "13. a - Performing undersampling for two classes within the existing 10 classes"
      ],
      "metadata": {
        "id": "gpJ3UwF0CMs2"
      }
    },
    {
      "cell_type": "code",
      "source": [
        "x_train, y_train, x_test, y_test = load_mnist()\n",
        "\n",
        "# Randomly selecting the 2 classes from which we do the undersample\n",
        "class1, class2 = random.sample(range(0, 10), 2)\n",
        "print('The selected classes for the undersampling are: ' + str(class1) + ' and ' + str(class2))\n",
        "\n",
        "# Number of samples we retain from each class\n",
        "sample_size = 100\n",
        "\n",
        "indices1 = np.where(y_train == class1)[0]\n",
        "indices2 = np.where(y_train == class2)[0]\n",
        "\n",
        "np.random.shuffle(indices1)\n",
        "np.random.shuffle(indices2)\n",
        "\n",
        "indices1 = indices1[:sample_size]\n",
        "indices2 = indices2[:sample_size]\n",
        "\n",
        "remaining_indices = np.where((y_train != class1) & (y_train != class2))[0]\n",
        "\n",
        "indices = np.concatenate([indices1, indices2, remaining_indices])\n",
        "np.random.shuffle(indices)\n",
        "\n",
        "x_train = x_train[indices]\n",
        "y_train = y_train[indices]"
      ],
      "metadata": {
        "colab": {
          "base_uri": "https://localhost:8080/"
        },
        "id": "o2P0ws8C5u34",
        "outputId": "d46f3340-7969-4057-f0a0-c1d10845829d"
      },
      "execution_count": 21,
      "outputs": [
        {
          "output_type": "stream",
          "name": "stdout",
          "text": [
            "The selected classes for the undersampling are: 0 and 8\n"
          ]
        }
      ]
    },
    {
      "cell_type": "markdown",
      "source": [
        "Applying the model on the undersampled dataset"
      ],
      "metadata": {
        "id": "ACC8ZUIFEFU5"
      }
    },
    {
      "cell_type": "code",
      "source": [
        "cm, precision, recall, f1_score, sensitivity, specificity, accuracy, history = build_model(x_train, y_train, x_test, y_test)"
      ],
      "metadata": {
        "colab": {
          "base_uri": "https://localhost:8080/"
        },
        "id": "9BCbMVN0EEuz",
        "outputId": "cfc1f8ef-ab37-40e1-e646-d96a91b32816"
      },
      "execution_count": 22,
      "outputs": [
        {
          "output_type": "stream",
          "name": "stdout",
          "text": [
            "Epoch 1/10\n",
            "1211/1211 [==============================] - 5s 4ms/step - loss: 0.3318 - accuracy: 0.9001 - val_loss: 0.1593 - val_accuracy: 0.9494\n",
            "Epoch 2/10\n",
            "1211/1211 [==============================] - 6s 5ms/step - loss: 0.1595 - accuracy: 0.9522 - val_loss: 0.1190 - val_accuracy: 0.9612\n",
            "Epoch 3/10\n",
            "1211/1211 [==============================] - 5s 4ms/step - loss: 0.1223 - accuracy: 0.9624 - val_loss: 0.1147 - val_accuracy: 0.9639\n",
            "Epoch 4/10\n",
            "1211/1211 [==============================] - 4s 3ms/step - loss: 0.0995 - accuracy: 0.9688 - val_loss: 0.0994 - val_accuracy: 0.9703\n",
            "Epoch 5/10\n",
            "1211/1211 [==============================] - 6s 5ms/step - loss: 0.0827 - accuracy: 0.9743 - val_loss: 0.0910 - val_accuracy: 0.9724\n",
            "Epoch 6/10\n",
            "1211/1211 [==============================] - 5s 4ms/step - loss: 0.0780 - accuracy: 0.9748 - val_loss: 0.0958 - val_accuracy: 0.9724\n",
            "Epoch 7/10\n",
            "1211/1211 [==============================] - 8s 7ms/step - loss: 0.0663 - accuracy: 0.9793 - val_loss: 0.0929 - val_accuracy: 0.9737\n",
            "Epoch 8/10\n",
            "1211/1211 [==============================] - 8s 6ms/step - loss: 0.0623 - accuracy: 0.9801 - val_loss: 0.0910 - val_accuracy: 0.9749\n",
            "Epoch 9/10\n",
            "1211/1211 [==============================] - 6s 5ms/step - loss: 0.0570 - accuracy: 0.9817 - val_loss: 0.0881 - val_accuracy: 0.9756\n",
            "Epoch 10/10\n",
            "1211/1211 [==============================] - 4s 4ms/step - loss: 0.0488 - accuracy: 0.9837 - val_loss: 0.0916 - val_accuracy: 0.9758\n",
            "313/313 [==============================] - 1s 2ms/step - loss: 0.2886 - accuracy: 0.9285\n",
            "Test Loss: 0.2886\n",
            "Test Accuracy: 0.9285\n",
            "313/313 [==============================] - 1s 2ms/step\n"
          ]
        }
      ]
    },
    {
      "cell_type": "code",
      "source": [
        "print_results(cm, precision, recall, f1_score, sensitivity, specificity, accuracy)"
      ],
      "metadata": {
        "colab": {
          "base_uri": "https://localhost:8080/"
        },
        "id": "8MeztWLGE1kZ",
        "outputId": "2f7df7d2-8765-40ee-a431-1d07da28607b"
      },
      "execution_count": 23,
      "outputs": [
        {
          "output_type": "stream",
          "name": "stdout",
          "text": [
            "Confusion Matrix:\n",
            "[[ 851    1    7    0    1   22   77    5    0   16]\n",
            " [   0 1126    4    0    0    1    3    1    0    0]\n",
            " [   0    2 1012    6    1    1    4    6    0    0]\n",
            " [   0    0    2  993    0    7    0    5    0    3]\n",
            " [   0    0    2    1  963    0    5    1    0   10]\n",
            " [   0    1    0    8    2  874    7    0    0    0]\n",
            " [   0    2    0    1    3    6  946    0    0    0]\n",
            " [   1    4    7    6    1    1    0 1005    0    3]\n",
            " [   6   19   18  122   24   94   48    9  542   92]\n",
            " [   0    7    1    5   10    7    1    5    0  973]]\n",
            "Precision: 0.9335644575850853\n",
            "Recall: 0.9270588307959379\n",
            "F1 Score: 0.9222716415015884\n",
            "Sensitivity: 0.9270588307959379\n",
            "Specificity: 0.3724547933343593\n"
          ]
        }
      ]
    },
    {
      "cell_type": "markdown",
      "source": [
        "From the following confusion matrix, we can draw several key observations:\n",
        "\n",
        "\n",
        "*   High accuracy of the model - the model achieved an overall accuracy of 93.35% which is an indication of high performance\n",
        "* Even though the model performs well overall, there are some classes that show an increase in misclassifications for class 0 and class 8 which were the ones influenced by the undersampling\n",
        "*   There are some notable classes overlap such as:\n",
        "  * Class 0 is often misclassified as class 5 or class 6\n",
        "  * Class 8 has high misclassification rates with most classes\n",
        "  * Class 3 and class 9 are being mutually misclassified\n",
        "\n",
        "Overall, the model is giving high accuracy on the constructed dataset.\n",
        "However, the undersampling of class 0 and class 8 impacted the accuracy for these classes in a significant way.\n"
      ],
      "metadata": {
        "id": "HMxT2xDwsiyv"
      }
    },
    {
      "cell_type": "code",
      "source": [
        "plot_loss_over_training(history)"
      ],
      "metadata": {
        "colab": {
          "base_uri": "https://localhost:8080/",
          "height": 564
        },
        "id": "dx0aR3NsE5N1",
        "outputId": "53be9136-e142-4ca8-a492-dee64e75593b"
      },
      "execution_count": 24,
      "outputs": [
        {
          "output_type": "display_data",
          "data": {
            "text/plain": [
              "<Figure size 1000x600 with 1 Axes>"
            ],
            "image/png": "[encoded data removed]"
          },
          "metadata": {}
        }
      ]
    },
    {
      "cell_type": "markdown",
      "source": [
        "For the undersampled dataset, the training seems to be starting to converge after 9 epochs.\n",
        "Thus, I would choose 9 as the best number of epochs for training considering the model was trained for 10 epochs"
      ],
      "metadata": {
        "id": "KZ5f3zwRy6-I"
      }
    },
    {
      "cell_type": "markdown",
      "source": [
        "Comparing the perfomance of the model on the original and the constructed datasets:\n",
        "\n",
        "In general, the accuracy of both models are pretty high.\n",
        "But, there are some key differences in the performances of the models.\n",
        "\n",
        " * Applying undersampling greatly affected the accuracy for the classes that were chosen for the undersampling (in this case class 0 and class 8), which overall affected the total accuracy of the model\n",
        " * The model shows consistency for the classes there weren't affected by the undersampling\n",
        "\n",
        "Overall the model keeps good accuracy for both datasets.\n",
        "However, there is a decrease in the accuracy when using the undersampled dataset"
      ],
      "metadata": {
        "id": "Z69xWm4juOlR"
      }
    },
    {
      "cell_type": "markdown",
      "source": [
        "13. b - Performing oversampling for two classes within the existing 10 classes\n",
        "and increasing the classes with image manipulation"
      ],
      "metadata": {
        "id": "IfXItsdiCU2S"
      }
    },
    {
      "cell_type": "code",
      "source": [
        "x_train, y_train, x_test, y_test = load_mnist()\n",
        "\n",
        "x_train = x_train / 255.0\n",
        "x_test = x_test / 255.0\n",
        "\n",
        "classes = random.sample(list(range(0, 10)), 2)\n",
        "print('The selected classes for the oversampling are: ' + str(class1) + ' and ' + str(class2))\n",
        "\n",
        "aug_num = 3\n",
        "\n",
        "aug_images = []\n",
        "aug_labels = []\n",
        "\n",
        "for c in classes:\n",
        "  aug_imgs, aug_label = augment_class_images(x_train, y_train, c, aug_num)\n",
        "  aug_images.append(aug_imgs)\n",
        "  aug_labels.append(aug_label)\n",
        "\n",
        "aug_images = np.concatenate(aug_images, axis=0)\n",
        "aug_labels = np.concatenate(aug_labels, axis=0)\n",
        "\n",
        "x_train = np.concatenate([x_train, aug_images], axis=0)\n",
        "y_train = np.concatenate([y_train, aug_labels], axis=0)\n",
        "\n",
        "y_train = tf.keras.utils.to_categorical(y_train, 10)\n",
        "y_test = tf.keras.utils.to_categorical(y_test, 10)\n",
        "\n",
        "# Building the NN\n",
        "model = tf.keras.models.Sequential([\n",
        "    tf.keras.layers.Flatten(input_shape=(28, 28)),\n",
        "    tf.keras.layers.Dense(128, activation='relu'),\n",
        "    tf.keras.layers.Dropout(0.2),\n",
        "    tf.keras.layers.Dense(64, activation='relu'),\n",
        "    tf.keras.layers.Dropout(0.2),\n",
        "    tf.keras.layers.Dense(10, activation='softmax')\n",
        "])\n",
        "\n",
        "# Compile the model\n",
        "model.compile(optimizer='adam',\n",
        "              loss='categorical_crossentropy',\n",
        "              metrics=['accuracy'])\n",
        "\n",
        "# Train the model\n",
        "history = model.fit(x_train, y_train, epochs=10, batch_size=32, validation_split=0.2)\n",
        "\n",
        "test_loss, test_accuracy = model.evaluate(x_test, y_test)\n",
        "print(f\"Test Loss: {test_loss:.4f}\")\n",
        "print(f\"Test Accuracy: {test_accuracy:.4f}\")\n",
        "\n",
        "# Make the predictions on the test set\n",
        "y_pred = model.predict(x_test)\n",
        "y_pred_classes = np.argmax(y_pred, axis=1)\n",
        "\n",
        "# Calculate precision, recall, F1 score, sensitivity and specificty\n",
        "precision = metrics.precision_score(np.argmax(y_test, axis=1), y_pred_classes, average='macro')\n",
        "recall = metrics.recall_score(np.argmax(y_test, axis=1), y_pred_classes, average='macro')\n",
        "f1_score = metrics.f1_score(np.argmax(y_test, axis=1), y_pred_classes, average='macro')\n",
        "\n",
        "sensitivity = recall\n",
        "\n",
        "# Calculate the confusion matrix to calculate the specificity\n",
        "cm = sk.metrics.confusion_matrix(np.argmax(y_test, axis=1), y_pred_classes)\n",
        "tn = cm.sum(axis=1) - cm.diagonal()\n",
        "fp = cm.sum(axis=0) - cm.diagonal()\n",
        "fn = cm.sum(axis=1) - cm.diagonal()\n",
        "specificity = tn / (tn + fp)\n",
        "specificity = specificity.mean()"
      ],
      "metadata": {
        "colab": {
          "base_uri": "https://localhost:8080/"
        },
        "id": "sOFdjZfECh3z",
        "outputId": "777e5d81-8c84-4509-e20e-08037a15c516"
      },
      "execution_count": 25,
      "outputs": [
        {
          "output_type": "stream",
          "name": "stdout",
          "text": [
            "The selected classes for the oversampling are: 0 and 8\n",
            "Epoch 1/10\n",
            "2391/2391 [==============================] - 11s 4ms/step - loss: 0.3447 - accuracy: 0.8940 - val_loss: 11.3903 - val_accuracy: 0.2800\n",
            "Epoch 2/10\n",
            "2391/2391 [==============================] - 11s 5ms/step - loss: 0.1654 - accuracy: 0.9497 - val_loss: 16.1514 - val_accuracy: 0.2328\n",
            "Epoch 3/10\n",
            "2391/2391 [==============================] - 11s 5ms/step - loss: 0.1294 - accuracy: 0.9614 - val_loss: 21.5710 - val_accuracy: 0.2097\n",
            "Epoch 4/10\n",
            "2391/2391 [==============================] - 9s 4ms/step - loss: 0.1125 - accuracy: 0.9651 - val_loss: 23.5607 - val_accuracy: 0.2189\n",
            "Epoch 5/10\n",
            "2391/2391 [==============================] - 10s 4ms/step - loss: 0.0999 - accuracy: 0.9690 - val_loss: 29.4884 - val_accuracy: 0.1907\n",
            "Epoch 6/10\n",
            "2391/2391 [==============================] - 11s 5ms/step - loss: 0.0907 - accuracy: 0.9722 - val_loss: 31.9199 - val_accuracy: 0.2096\n",
            "Epoch 7/10\n",
            "2391/2391 [==============================] - 10s 4ms/step - loss: 0.0839 - accuracy: 0.9736 - val_loss: 36.7460 - val_accuracy: 0.2084\n",
            "Epoch 8/10\n",
            "2391/2391 [==============================] - 9s 4ms/step - loss: 0.0789 - accuracy: 0.9754 - val_loss: 40.2732 - val_accuracy: 0.2047\n",
            "Epoch 9/10\n",
            "2391/2391 [==============================] - 10s 4ms/step - loss: 0.0731 - accuracy: 0.9765 - val_loss: 43.3967 - val_accuracy: 0.2093\n",
            "Epoch 10/10\n",
            "2391/2391 [==============================] - 11s 5ms/step - loss: 0.0723 - accuracy: 0.9767 - val_loss: 43.4587 - val_accuracy: 0.2132\n",
            "313/313 [==============================] - 1s 2ms/step - loss: 0.0863 - accuracy: 0.9757\n",
            "Test Loss: 0.0863\n",
            "Test Accuracy: 0.9757\n",
            "313/313 [==============================] - 1s 2ms/step\n"
          ]
        }
      ]
    },
    {
      "cell_type": "code",
      "source": [
        "print_results(cm, precision, recall, f1_score, sensitivity, specificity, accuracy)"
      ],
      "metadata": {
        "colab": {
          "base_uri": "https://localhost:8080/"
        },
        "id": "BQDwUt-wNCNl",
        "outputId": "2f09e19f-91b9-4359-be9f-affa0273f1ea"
      },
      "execution_count": 26,
      "outputs": [
        {
          "output_type": "stream",
          "name": "stdout",
          "text": [
            "Confusion Matrix:\n",
            "[[ 968    0    0    2    1    1    1    1    0    6]\n",
            " [   0 1127    3    0    0    0    1    0    3    1]\n",
            " [   5    2 1010    2    2    0    0    7    2    2]\n",
            " [   0    0    4  991    0    3    0    6    3    3]\n",
            " [   1    0    7    0  935    0    2    1    2   34]\n",
            " [   2    0    0   15    1  858    3    2    5    6]\n",
            " [   8    2    0    1    6    2  927    0    3    9]\n",
            " [   1    2   10    1    1    0    0 1006    2    5]\n",
            " [   4    0    3    4    3    3    1    4  949    3]\n",
            " [   3    3    0    5    4    1    0    4    3  986]]\n",
            "Precision: 0.9760186006650431\n",
            "Recall: 0.9752376777047331\n",
            "F1 Score: 0.9755189558143075\n",
            "Sensitivity: 0.9752376777047331\n",
            "Specificity: 0.5170250692897305\n"
          ]
        }
      ]
    },
    {
      "cell_type": "markdown",
      "source": [
        "From the following confusion matrix, we can draw several key observations:\n",
        "\n",
        "\n",
        "*   High accuracy of the model - the model achieved an overall accuracy of 97.60% which is an indication of high performance\n",
        "*   There are some notable classes overlap such as:\n",
        "  * Class 4 is misclassified as class 9 in a significant amount\n",
        "  * Class 2 is often misclassified as class 7\n",
        "  * Class 5 is often misclassified as class 3\n",
        "\n",
        "Overall, the model is giving high accuracy on the constructed dataset"
      ],
      "metadata": {
        "id": "Id-GtrVkvwPp"
      }
    },
    {
      "cell_type": "code",
      "source": [
        "plot_loss_over_training(history)"
      ],
      "metadata": {
        "colab": {
          "base_uri": "https://localhost:8080/",
          "height": 564
        },
        "id": "KhjPTc7mNN7S",
        "outputId": "fe7c72d6-d6b2-472e-d5cd-7d13758dba9d"
      },
      "execution_count": 27,
      "outputs": [
        {
          "output_type": "display_data",
          "data": {
            "text/plain": [
              "<Figure size 1000x600 with 1 Axes>"
            ],
            "image/png": "[encoded data removed]"
          },
          "metadata": {}
        }
      ]
    },
    {
      "cell_type": "markdown",
      "source": [
        "For the oversampled dataset, the training is starting to converge after 8 epochs.\n",
        "\n",
        "Thus, I would choose 8 as the best number of epochs for training"
      ],
      "metadata": {
        "id": "teSwKuyOydGc"
      }
    },
    {
      "cell_type": "markdown",
      "source": [
        "Comparing the perfomance of the model on the original and the constructed datasets:\n",
        "\n",
        "In general, the accuracy of both models are pretty high.\n",
        "But, there are some key differences in the performances of the models.\n",
        "\n",
        " * Applying oversampling affected the accuracy for the classes that weren't chosen for the oversampling, which overall affected the total accuracy of the model.\n",
        " However, the overall accuracy wasn't affected in a significant way\n",
        " * The model shows consistency for the classes there were chosen for the oversampling\n",
        "\n",
        "Overall the model keeps good accuracy for both datasets with a slight decrease for the oversampled dataset"
      ],
      "metadata": {
        "id": "3gePv0yuxSB7"
      }
    }
  ]
}
